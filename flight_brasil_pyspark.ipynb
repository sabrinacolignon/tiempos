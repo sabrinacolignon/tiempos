{
 "cells": [
  {
   "cell_type": "markdown",
   "id": "526d729f-6520-44cb-8295-48192ea9e143",
   "metadata": {},
   "source": [
    "# Flights Brasil"
   ]
  },
  {
   "cell_type": "code",
   "execution_count": 19,
   "id": "fbb6e5a7-8b1c-4c3c-9b8a-addda7e97434",
   "metadata": {},
   "outputs": [],
   "source": [
    "import pyspark\n",
    "from pyspark.sql import SparkSession\n",
    "import pyspark.sql.functions as F\n",
    "from pyspark.sql.window import Window"
   ]
  },
  {
   "cell_type": "code",
   "execution_count": 109,
   "id": "f7028434-1ad9-400a-8b95-83fb47e1648e",
   "metadata": {},
   "outputs": [],
   "source": [
    "class OverlapDetector:\n",
    "    \"\"\"Class to detect overlaps in a DataFrame using PySpark\"\"\"\n",
    "\n",
    "    def __init__(self):\n",
    "        self.spark = SparkSession.builder.appName(\"OverlapDetector\").getOrCreate()\n",
    "\n",
    "    def open_file(self, file: str):\n",
    "        \"\"\"\n",
    "        Opens the file and returns a Spark DataFrame.\n",
    "        \n",
    "        Parameters:\n",
    "        file (str): Path to the file to open.\n",
    "        encoding (str): File encoding format.\n",
    "\n",
    "        Returns:\n",
    "        DataFrame: Spark DataFrame with the file's data.\n",
    "        \"\"\"\n",
    "        data = self.spark.read.csv(file, header=True, inferSchema=True, encoding='utf-8')\n",
    "        return data\n",
    "\n",
    "    def filter_data_by_year(self, data, date_column: str, year_value: int):\n",
    "        \"\"\"\n",
    "        Filters data by the given year.\n",
    "        \n",
    "        Parameters:\n",
    "        data (DataFrame): Spark DataFrame.\n",
    "        date_column (str): The name of the column containing date information.\n",
    "        year_value (int): Year to filter the data by.\n",
    "\n",
    "        Returns:\n",
    "        DataFrame: Spark DataFrame filtered by the given year.\n",
    "        \"\"\"\n",
    "        data = data.withColumn(\"year\", F.year(F.col(date_column)))\n",
    "        data_year = data.filter(F.col(\"year\") == year_value)\n",
    "        return data_year\n",
    "\n",
    "    def detect_overlap(self, sample, start_column: str, end_column: str):\n",
    "        \"\"\"\n",
    "        Detects overlaps in the Spark DataFrame using lag function.\n",
    "        \n",
    "        Parameters:\n",
    "        sample (DataFrame): Spark DataFrame with the conditioned and filtered flight data.\n",
    "        start_column (str): The name of the column containing the start time.\n",
    "        end_column (str): The name of the column containing the end time.\n",
    "\n",
    "        Returns:\n",
    "        DataFrame: DataFrame with overlap details.\n",
    "        \"\"\"\n",
    "        window_spec = Window.orderBy(start_column)\n",
    "        \n",
    "        # Lagging the start and end columns\n",
    "        sample = sample.withColumn(\"prev_start\", lag(start_column).over(window_spec))\n",
    "        sample = sample.withColumn(\"prev_end\", lag(end_column).over(window_spec))\n",
    "        \n",
    "        # Filtering where there is an overlap\n",
    "        overlap_condition = (col(start_column) < col(\"prev_end\")) & (col(end_column) > col(\"prev_start\"))\n",
    "        overlaps = sample.filter(overlap_condition)\n",
    "        \n",
    "        return overlaps"
   ]
  },
  {
   "cell_type": "code",
   "execution_count": 33,
   "id": "c696c55a-3155-4970-958e-2adf0973848b",
   "metadata": {},
   "outputs": [],
   "source": [
    "detector = OverlapDetector()"
   ]
  },
  {
   "cell_type": "code",
   "execution_count": 34,
   "id": "52760fb7-2354-44f1-9b80-6151de16e121",
   "metadata": {},
   "outputs": [],
   "source": [
    "file=\"./vuelos_brasil.csv\""
   ]
  },
  {
   "cell_type": "code",
   "execution_count": 35,
   "id": "1031bcdd-462a-42a9-bb3a-907ca6c7e38b",
   "metadata": {},
   "outputs": [],
   "source": [
    "data = detector.open_file(file)"
   ]
  },
  {
   "cell_type": "code",
   "execution_count": 37,
   "id": "a976841e-81bf-450a-8f82-58c2d1ad147c",
   "metadata": {},
   "outputs": [],
   "source": [
    "data = data.withColumn(f\"`{date_column}`\", F.to_timestamp(F.col(f\"`{date_column}`\")))\n",
    "data = data.withColumn(f\"`{start_column}`\", F.to_timestamp(F.col(f\"`{start_column}`\")))\n",
    "data = data.withColumn(f\"`{end_column}`\", F.to_timestamp(F.col(f\"`{end_column}`\")))"
   ]
  },
  {
   "cell_type": "code",
   "execution_count": 52,
   "id": "b0da2d2e-c3ff-4083-9cac-3ac8aa529241",
   "metadata": {},
   "outputs": [],
   "source": [
    "original_columns = data.columns\n",
    "new_columns = [col.replace('.', '_') for col in original_columns]\n",
    "\n",
    "# Renombrar las columnas\n",
    "for original, new in zip(original_columns, new_columns):\n",
    "    data = data.withColumnRenamed(original, new)"
   ]
  },
  {
   "cell_type": "code",
   "execution_count": 53,
   "id": "540b015d-8d40-46ab-90df-68b2598afbcd",
   "metadata": {},
   "outputs": [
    {
     "name": "stdout",
     "output_type": "stream",
     "text": [
      "+---------+--------------------+-----------------+-------------------+--------------------+-------------------+--------------------+------------+--------------------+----------------+--------------------+-------------+--------------+-----------------+--------------------+--------------+--------------+-----------+-----------+-----------+-----------+-------------------+-------------------+-------------------+\n",
      "|     Voos|     Companhia_Aerea|Codigo_Tipo_Linha|   Partida_Prevista|        Partida_Real|   Chegada_Prevista|        Chegada_Real|Situacao_Voo|Codigo_Justificativa|Aeroporto_Origem|       Cidade_Origem|Estado_Origem|   Pais_Origem|Aeroporto_Destino|      Cidade_Destino|Estado_Destino|  Pais_Destino|   LongDest|    LatDest|   LongOrig|    LatOrig| `Partida_Prevista`|     `Partida_Real`|     `Chegada_Real`|\n",
      "+---------+--------------------+-----------------+-------------------+--------------------+-------------------+--------------------+------------+--------------------+----------------+--------------------+-------------+--------------+-----------------+--------------------+--------------+--------------+-----------+-----------+-----------+-----------+-------------------+-------------------+-------------------+\n",
      "|AAL - 203|AMERICAN AIRLINES...|    Internacional|2016-01-30 08:58:00|2016-01-30T08:58:00Z|2016-01-30 10:35:00|2016-01-30T10:35:00Z|   Realizado|                  NA|     Afonso Pena|Sao Jose Dos Pinhais|           PR|        Brasil|    Salgado Filho|        Porto Alegre|            RS|        Brasil|-51.1753811|-29.9934732|-49.1724811|-25.5327132|2016-01-30 08:58:00|2016-01-30 08:58:00|2016-01-30 10:35:00|\n",
      "|AAL - 203|AMERICAN AIRLINES...|    Internacional|2016-01-13 12:13:00|2016-01-13T12:13:00Z|2016-01-13 21:30:00|2016-01-13T21:30:00Z|   Realizado|                  NA|   Salgado Filho|        Porto Alegre|           RS|        Brasil|            Miami|               Miami|           N/I|Estados Unidos|-80.2870457|  25.795865|-51.1753811|-29.9934732|2016-01-13 12:13:00|2016-01-13 12:13:00|2016-01-13 21:30:00|\n",
      "|AAL - 203|AMERICAN AIRLINES...|    Internacional|2016-01-29 12:13:00|2016-01-29T12:13:00Z|2016-01-29 21:30:00|2016-01-29T21:30:00Z|   Realizado|                  NA|   Salgado Filho|        Porto Alegre|           RS|        Brasil|            Miami|               Miami|           N/I|Estados Unidos|-80.2870457|  25.795865|-51.1753811|-29.9934732|2016-01-29 12:13:00|2016-01-29 12:13:00|2016-01-29 21:30:00|\n",
      "|AAL - 203|AMERICAN AIRLINES...|    Internacional|2016-01-19 12:13:00|2016-01-18T12:03:00Z|2016-01-19 21:30:00|2016-01-18T20:41:00Z|   Realizado|LIBERACAO SERV. T...|   Salgado Filho|        Porto Alegre|           RS|        Brasil|            Miami|               Miami|           N/I|Estados Unidos|-80.2870457|  25.795865|-51.1753811|-29.9934732|2016-01-19 12:13:00|2016-01-18 12:03:00|2016-01-18 20:41:00|\n",
      "|AAL - 203|AMERICAN AIRLINES...|    Internacional|2016-01-30 12:13:00|2016-01-30T12:13:00Z|2016-01-30 21:30:00|2016-01-30T21:30:00Z|   Realizado|                  NA|   Salgado Filho|        Porto Alegre|           RS|        Brasil|            Miami|               Miami|           N/I|Estados Unidos|-80.2870457|  25.795865|-51.1753811|-29.9934732|2016-01-30 12:13:00|2016-01-30 12:13:00|2016-01-30 21:30:00|\n",
      "|AAL - 203|AMERICAN AIRLINES...|    Internacional|2016-01-03 23:05:00|2016-01-03T23:05:00Z|2016-01-04 07:50:00|2016-01-04T07:50:00Z|   Realizado|                  NA|           Miami|               Miami|          N/I|Estados Unidos|      Afonso Pena|Sao Jose Dos Pinhais|            PR|        Brasil|-49.1724811|-25.5327132|-80.2870457|  25.795865|2016-01-03 23:05:00|2016-01-03 23:05:00|2016-01-04 07:50:00|\n",
      "|AAL - 203|AMERICAN AIRLINES...|    Internacional|2016-01-05 23:05:00|2016-01-05T23:35:00Z|2016-01-06 07:50:00|2016-01-06T08:35:00Z|   Realizado|LIBERACAO SERV. T...|           Miami|               Miami|          N/I|Estados Unidos|      Afonso Pena|Sao Jose Dos Pinhais|            PR|        Brasil|-49.1724811|-25.5327132|-80.2870457|  25.795865|2016-01-05 23:05:00|2016-01-05 23:35:00|2016-01-06 08:35:00|\n",
      "|AAL - 203|AMERICAN AIRLINES...|    Internacional|2016-01-18 12:13:00|2016-01-18T13:09:00Z|2016-01-18 21:30:00|2016-01-18T22:24:00Z|   Realizado| CONEXAO DE AERONAVE|   Salgado Filho|        Porto Alegre|           RS|        Brasil|            Miami|               Miami|           N/I|Estados Unidos|-80.2870457|  25.795865|-51.1753811|-29.9934732|2016-01-18 12:13:00|2016-01-18 13:09:00|2016-01-18 22:24:00|\n",
      "|AAL - 203|AMERICAN AIRLINES...|    Internacional|2016-01-22 23:05:00|2016-01-22T23:05:00Z|2016-01-23 07:50:00|2016-01-23T07:50:00Z|   Realizado|                  NA|           Miami|               Miami|          N/I|Estados Unidos|      Afonso Pena|Sao Jose Dos Pinhais|            PR|        Brasil|-49.1724811|-25.5327132|-80.2870457|  25.795865|2016-01-22 23:05:00|2016-01-22 23:05:00|2016-01-23 07:50:00|\n",
      "|AAL - 203|AMERICAN AIRLINES...|    Internacional|2016-01-15 23:05:00|2016-01-15T23:55:00Z|2016-01-16 07:50:00|2016-01-16T08:28:00Z|   Realizado|ATRASOS NAO ESPEC...|           Miami|               Miami|          N/I|Estados Unidos|      Afonso Pena|Sao Jose Dos Pinhais|            PR|        Brasil|-49.1724811|-25.5327132|-80.2870457|  25.795865|2016-01-15 23:05:00|2016-01-15 23:55:00|2016-01-16 08:28:00|\n",
      "|AAL - 203|AMERICAN AIRLINES...|    Internacional|2016-01-10 08:58:00|2016-01-10T10:22:00Z|2016-01-10 10:35:00|2016-01-10T11:31:00Z|   Realizado| CONEXAO DE AERONAVE|     Afonso Pena|Sao Jose Dos Pinhais|           PR|        Brasil|    Salgado Filho|        Porto Alegre|            RS|        Brasil|-51.1753811|-29.9934732|-49.1724811|-25.5327132|2016-01-10 08:58:00|2016-01-10 10:22:00|2016-01-10 11:31:00|\n",
      "|AAL - 203|AMERICAN AIRLINES...|    Internacional|2016-01-24 12:13:00|2016-01-24T12:13:00Z|2016-01-24 21:30:00|2016-01-24T21:30:00Z|   Realizado|                  NA|   Salgado Filho|        Porto Alegre|           RS|        Brasil|            Miami|               Miami|           N/I|Estados Unidos|-80.2870457|  25.795865|-51.1753811|-29.9934732|2016-01-24 12:13:00|2016-01-24 12:13:00|2016-01-24 21:30:00|\n",
      "|AAL - 203|AMERICAN AIRLINES...|    Internacional|2016-01-05 08:58:00|2016-01-05T08:58:00Z|2016-01-05 10:35:00|2016-01-05T10:35:00Z|   Realizado|                  NA|     Afonso Pena|Sao Jose Dos Pinhais|           PR|        Brasil|    Salgado Filho|        Porto Alegre|            RS|        Brasil|-51.1753811|-29.9934732|-49.1724811|-25.5327132|2016-01-05 08:58:00|2016-01-05 08:58:00|2016-01-05 10:35:00|\n",
      "|AAL - 203|AMERICAN AIRLINES...|    Internacional|2016-01-18 08:58:00|2016-01-18T10:54:00Z|2016-01-18 10:35:00|2016-01-18T12:08:00Z|   Realizado| CONEXAO DE AERONAVE|     Afonso Pena|Sao Jose Dos Pinhais|           PR|        Brasil|    Salgado Filho|        Porto Alegre|            RS|        Brasil|-51.1753811|-29.9934732|-49.1724811|-25.5327132|2016-01-18 08:58:00|2016-01-18 10:54:00|2016-01-18 12:08:00|\n",
      "|AAL - 203|AMERICAN AIRLINES...|    Internacional|2016-01-31 08:58:00|2016-01-31T08:58:00Z|2016-01-31 10:35:00|2016-01-31T10:35:00Z|   Realizado|                  NA|     Afonso Pena|Sao Jose Dos Pinhais|           PR|        Brasil|    Salgado Filho|        Porto Alegre|            RS|        Brasil|-51.1753811|-29.9934732|-49.1724811|-25.5327132|2016-01-31 08:58:00|2016-01-31 08:58:00|2016-01-31 10:35:00|\n",
      "|AAL - 203|AMERICAN AIRLINES...|    Internacional|2016-01-26 23:05:00|2016-01-26T23:16:00Z|2016-01-27 07:50:00|2016-01-27T08:22:00Z|   Realizado|ATRASOS NAO ESPEC...|           Miami|               Miami|          N/I|Estados Unidos|      Afonso Pena|Sao Jose Dos Pinhais|            PR|        Brasil|-49.1724811|-25.5327132|-80.2870457|  25.795865|2016-01-26 23:05:00|2016-01-26 23:16:00|2016-01-27 08:22:00|\n",
      "|AAL - 203|AMERICAN AIRLINES...|    Internacional|2016-01-12 08:58:00|2016-01-12T08:58:00Z|2016-01-12 10:35:00|2016-01-12T10:35:00Z|   Realizado|                  NA|     Afonso Pena|Sao Jose Dos Pinhais|           PR|        Brasil|    Salgado Filho|        Porto Alegre|            RS|        Brasil|-51.1753811|-29.9934732|-49.1724811|-25.5327132|2016-01-12 08:58:00|2016-01-12 08:58:00|2016-01-12 10:35:00|\n",
      "|AAL - 203|AMERICAN AIRLINES...|    Internacional|2016-01-07 12:13:00|2016-01-07T12:13:00Z|2016-01-07 21:30:00|2016-01-07T21:30:00Z|   Realizado|                  NA|   Salgado Filho|        Porto Alegre|           RS|        Brasil|            Miami|               Miami|           N/I|Estados Unidos|-80.2870457|  25.795865|-51.1753811|-29.9934732|2016-01-07 12:13:00|2016-01-07 12:13:00|2016-01-07 21:30:00|\n",
      "|AAL - 203|AMERICAN AIRLINES...|    Internacional|2016-01-21 23:05:00|2016-01-21T23:05:00Z|2016-01-22 07:50:00|2016-01-22T07:50:00Z|   Realizado|                  NA|           Miami|               Miami|          N/I|Estados Unidos|      Afonso Pena|Sao Jose Dos Pinhais|            PR|        Brasil|-49.1724811|-25.5327132|-80.2870457|  25.795865|2016-01-21 23:05:00|2016-01-21 23:05:00|2016-01-22 07:50:00|\n",
      "|AAL - 203|AMERICAN AIRLINES...|    Internacional|2016-01-29 23:05:00|2016-01-29T23:05:00Z|2016-01-30 07:50:00|2016-01-30T07:50:00Z|   Realizado|                  NA|           Miami|               Miami|          N/I|Estados Unidos|      Afonso Pena|Sao Jose Dos Pinhais|            PR|        Brasil|-49.1724811|-25.5327132|-80.2870457|  25.795865|2016-01-29 23:05:00|2016-01-29 23:05:00|2016-01-30 07:50:00|\n",
      "+---------+--------------------+-----------------+-------------------+--------------------+-------------------+--------------------+------------+--------------------+----------------+--------------------+-------------+--------------+-----------------+--------------------+--------------+--------------+-----------+-----------+-----------+-----------+-------------------+-------------------+-------------------+\n",
      "only showing top 20 rows\n",
      "\n"
     ]
    }
   ],
   "source": [
    "data.show()"
   ]
  },
  {
   "cell_type": "markdown",
   "id": "c8e020fe-b85d-44a7-a235-397a2b4ee3f8",
   "metadata": {},
   "source": [
    "## Data exploration"
   ]
  },
  {
   "cell_type": "code",
   "execution_count": 38,
   "id": "188973f5-cef9-43f8-914f-49ec58eddf26",
   "metadata": {},
   "outputs": [
    {
     "name": "stdout",
     "output_type": "stream",
     "text": [
      "root\n",
      " |-- Voos: string (nullable = true)\n",
      " |-- Companhia.Aerea: string (nullable = true)\n",
      " |-- Codigo.Tipo.Linha: string (nullable = true)\n",
      " |-- Partida.Prevista: timestamp (nullable = true)\n",
      " |-- Partida.Real: string (nullable = true)\n",
      " |-- Chegada.Prevista: timestamp (nullable = true)\n",
      " |-- Chegada.Real: string (nullable = true)\n",
      " |-- Situacao.Voo: string (nullable = true)\n",
      " |-- Codigo.Justificativa: string (nullable = true)\n",
      " |-- Aeroporto.Origem: string (nullable = true)\n",
      " |-- Cidade.Origem: string (nullable = true)\n",
      " |-- Estado.Origem: string (nullable = true)\n",
      " |-- Pais.Origem: string (nullable = true)\n",
      " |-- Aeroporto.Destino: string (nullable = true)\n",
      " |-- Cidade.Destino: string (nullable = true)\n",
      " |-- Estado.Destino: string (nullable = true)\n",
      " |-- Pais.Destino: string (nullable = true)\n",
      " |-- LongDest: double (nullable = true)\n",
      " |-- LatDest: double (nullable = true)\n",
      " |-- LongOrig: double (nullable = true)\n",
      " |-- LatOrig: double (nullable = true)\n",
      " |-- `Partida.Prevista`: timestamp (nullable = true)\n",
      " |-- `Partida.Real`: timestamp (nullable = true)\n",
      " |-- `Chegada.Real`: timestamp (nullable = true)\n",
      "\n"
     ]
    }
   ],
   "source": [
    "data.printSchema()"
   ]
  },
  {
   "cell_type": "code",
   "execution_count": 45,
   "id": "d00d1ba9-606d-43c0-ab29-c13fc3d60366",
   "metadata": {},
   "outputs": [
    {
     "data": {
      "text/plain": [
       "pyspark.sql.dataframe.DataFrame"
      ]
     },
     "execution_count": 45,
     "metadata": {},
     "output_type": "execute_result"
    }
   ],
   "source": [
    "type(data)"
   ]
  },
  {
   "cell_type": "code",
   "execution_count": 39,
   "id": "928d2485-dda6-49e4-9c81-5ff84eda8be4",
   "metadata": {},
   "outputs": [
    {
     "name": "stdout",
     "output_type": "stream",
     "text": [
      "+---------+--------------------+-----------------+-------------------+--------------------+-------------------+--------------------+------------+--------------------+----------------+--------------------+-------------+-----------+-----------------+--------------+--------------+--------------+-----------+-----------+-----------+-----------+-------------------+-------------------+-------------------+\n",
      "|     Voos|     Companhia.Aerea|Codigo.Tipo.Linha|   Partida.Prevista|        Partida.Real|   Chegada.Prevista|        Chegada.Real|Situacao.Voo|Codigo.Justificativa|Aeroporto.Origem|       Cidade.Origem|Estado.Origem|Pais.Origem|Aeroporto.Destino|Cidade.Destino|Estado.Destino|  Pais.Destino|   LongDest|    LatDest|   LongOrig|    LatOrig| `Partida.Prevista`|     `Partida.Real`|     `Chegada.Real`|\n",
      "+---------+--------------------+-----------------+-------------------+--------------------+-------------------+--------------------+------------+--------------------+----------------+--------------------+-------------+-----------+-----------------+--------------+--------------+--------------+-----------+-----------+-----------+-----------+-------------------+-------------------+-------------------+\n",
      "|AAL - 203|AMERICAN AIRLINES...|    Internacional|2016-01-30 08:58:00|2016-01-30T08:58:00Z|2016-01-30 10:35:00|2016-01-30T10:35:00Z|   Realizado|                  NA|     Afonso Pena|Sao Jose Dos Pinhais|           PR|     Brasil|    Salgado Filho|  Porto Alegre|            RS|        Brasil|-51.1753811|-29.9934732|-49.1724811|-25.5327132|2016-01-30 08:58:00|2016-01-30 08:58:00|2016-01-30 10:35:00|\n",
      "|AAL - 203|AMERICAN AIRLINES...|    Internacional|2016-01-13 12:13:00|2016-01-13T12:13:00Z|2016-01-13 21:30:00|2016-01-13T21:30:00Z|   Realizado|                  NA|   Salgado Filho|        Porto Alegre|           RS|     Brasil|            Miami|         Miami|           N/I|Estados Unidos|-80.2870457|  25.795865|-51.1753811|-29.9934732|2016-01-13 12:13:00|2016-01-13 12:13:00|2016-01-13 21:30:00|\n",
      "|AAL - 203|AMERICAN AIRLINES...|    Internacional|2016-01-29 12:13:00|2016-01-29T12:13:00Z|2016-01-29 21:30:00|2016-01-29T21:30:00Z|   Realizado|                  NA|   Salgado Filho|        Porto Alegre|           RS|     Brasil|            Miami|         Miami|           N/I|Estados Unidos|-80.2870457|  25.795865|-51.1753811|-29.9934732|2016-01-29 12:13:00|2016-01-29 12:13:00|2016-01-29 21:30:00|\n",
      "|AAL - 203|AMERICAN AIRLINES...|    Internacional|2016-01-19 12:13:00|2016-01-18T12:03:00Z|2016-01-19 21:30:00|2016-01-18T20:41:00Z|   Realizado|LIBERACAO SERV. T...|   Salgado Filho|        Porto Alegre|           RS|     Brasil|            Miami|         Miami|           N/I|Estados Unidos|-80.2870457|  25.795865|-51.1753811|-29.9934732|2016-01-19 12:13:00|2016-01-18 12:03:00|2016-01-18 20:41:00|\n",
      "|AAL - 203|AMERICAN AIRLINES...|    Internacional|2016-01-30 12:13:00|2016-01-30T12:13:00Z|2016-01-30 21:30:00|2016-01-30T21:30:00Z|   Realizado|                  NA|   Salgado Filho|        Porto Alegre|           RS|     Brasil|            Miami|         Miami|           N/I|Estados Unidos|-80.2870457|  25.795865|-51.1753811|-29.9934732|2016-01-30 12:13:00|2016-01-30 12:13:00|2016-01-30 21:30:00|\n",
      "+---------+--------------------+-----------------+-------------------+--------------------+-------------------+--------------------+------------+--------------------+----------------+--------------------+-------------+-----------+-----------------+--------------+--------------+--------------+-----------+-----------+-----------+-----------+-------------------+-------------------+-------------------+\n",
      "only showing top 5 rows\n",
      "\n"
     ]
    }
   ],
   "source": [
    "data.show(5)"
   ]
  },
  {
   "cell_type": "code",
   "execution_count": 41,
   "id": "934cab54-9ab5-46c3-bbcf-856c6241cf7a",
   "metadata": {},
   "outputs": [
    {
     "data": {
      "text/plain": [
       "Row(Voos='AAL - 203', Companhia.Aerea='AMERICAN AIRLINES INC', Codigo.Tipo.Linha='Internacional', Partida.Prevista=datetime.datetime(2016, 1, 30, 8, 58), Partida.Real='2016-01-30T08:58:00Z', Chegada.Prevista=datetime.datetime(2016, 1, 30, 10, 35), Chegada.Real='2016-01-30T10:35:00Z', Situacao.Voo='Realizado', Codigo.Justificativa='NA', Aeroporto.Origem='Afonso Pena', Cidade.Origem='Sao Jose Dos Pinhais', Estado.Origem='PR', Pais.Origem='Brasil', Aeroporto.Destino='Salgado Filho', Cidade.Destino='Porto Alegre', Estado.Destino='RS', Pais.Destino='Brasil', LongDest=-51.1753811, LatDest=-29.9934732, LongOrig=-49.1724811, LatOrig=-25.5327132, `Partida.Prevista`=datetime.datetime(2016, 1, 30, 8, 58), `Partida.Real`=datetime.datetime(2016, 1, 30, 8, 58), `Chegada.Real`=datetime.datetime(2016, 1, 30, 10, 35))"
      ]
     },
     "execution_count": 41,
     "metadata": {},
     "output_type": "execute_result"
    }
   ],
   "source": [
    "data.head()"
   ]
  },
  {
   "cell_type": "code",
   "execution_count": 54,
   "id": "9ff6e4a4-0a8f-4556-9a82-ef8af1176e65",
   "metadata": {},
   "outputs": [
    {
     "name": "stdout",
     "output_type": "stream",
     "text": [
      "+-------+----------+--------------------+-----------------+--------------------+--------------------+------------+--------------------+--------------------+--------------------+-------------+-------------+--------------------+--------------------+--------------+-------------+------------------+-------------------+-------------------+-------------------+\n",
      "|summary|      Voos|     Companhia_Aerea|Codigo_Tipo_Linha|        Partida_Real|        Chegada_Real|Situacao_Voo|Codigo_Justificativa|    Aeroporto_Origem|       Cidade_Origem|Estado_Origem|  Pais_Origem|   Aeroporto_Destino|      Cidade_Destino|Estado_Destino| Pais_Destino|          LongDest|            LatDest|           LongOrig|            LatOrig|\n",
      "+-------+----------+--------------------+-----------------+--------------------+--------------------+------------+--------------------+--------------------+--------------------+-------------+-------------+--------------------+--------------------+--------------+-------------+------------------+-------------------+-------------------+-------------------+\n",
      "|  count|   2542519|             2542519|          2542519|             2542519|             2542519|     2542519|             2542519|             2542519|             2542519|      2542519|      2542519|             2542519|             2542519|       2542519|      2542519|           2542519|            2542519|            2542519|            2542519|\n",
      "|   mean|      NULL|                NULL|             NULL|                NULL|                NULL|        NULL|                NULL|                NULL|                NULL|         NULL|         NULL|                NULL|                NULL|          NULL|         NULL|-46.45361843838266|-17.186818327953198|-46.452155983526566|-17.166907454110437|\n",
      "| stddev|      NULL|                NULL|             NULL|                NULL|                NULL|        NULL|                NULL|                NULL|                NULL|         NULL|         NULL|                NULL|                NULL|          NULL|         NULL|10.517998004821479| 12.271525338993955| 10.518537699178825| 12.272367064856757|\n",
      "|    min|AAL - 1265|AEROLINEAS ARGENT...|    Internacional|2014-12-31T01:03:00Z|2014-12-31T03:00:00Z|   Cancelado|ABASTECIMENTO/DES...|Ab Dhabi Internat...|Ab Dhabi Internat...|           AC|Africa Do Sul|Ab Dhabi Internat...|Ab Dhabi Internat...|            AC|Africa Do Sul|        -118.40853|         -58.253037|         -118.40853|         -58.253037|\n",
      "|    max| UAL - 979|     US AIRWAYS INC.|         Regional|                  NA|                  NA|   Realizado|   TROCA DE AERONAVE|             Zurique|             Zurique|           TO|    Venezuela|             Zurique|             Zurique|            TO|    Venezuela|        55.3656728|         52.3105386|         55.3656728|         52.3105386|\n",
      "+-------+----------+--------------------+-----------------+--------------------+--------------------+------------+--------------------+--------------------+--------------------+-------------+-------------+--------------------+--------------------+--------------+-------------+------------------+-------------------+-------------------+-------------------+\n",
      "\n"
     ]
    }
   ],
   "source": [
    "data.describe().show()"
   ]
  },
  {
   "cell_type": "code",
   "execution_count": 56,
   "id": "029e3165-074c-4957-8324-1f64345674cd",
   "metadata": {},
   "outputs": [
    {
     "name": "stdout",
     "output_type": "stream",
     "text": [
      "+------------+-------+\n",
      "|Situacao_Voo|  count|\n",
      "+------------+-------+\n",
      "|   Realizado|2253323|\n",
      "|   Cancelado| 289196|\n",
      "+------------+-------+\n",
      "\n"
     ]
    }
   ],
   "source": [
    "conteo_situacao_voo = data.groupBy(\"Situacao_Voo\").count()\n",
    "conteo_situacao_voo.orderBy(F.desc(\"count\")).show()"
   ]
  },
  {
   "cell_type": "code",
   "execution_count": 57,
   "id": "9cff4a98-a10c-4e43-8ca2-78344097156d",
   "metadata": {},
   "outputs": [
    {
     "name": "stdout",
     "output_type": "stream",
     "text": [
      "+--------------------+------+\n",
      "|     Companhia_Aerea| count|\n",
      "+--------------------+------+\n",
      "|                 GOL|759191|\n",
      "|                AZUL|742495|\n",
      "|                 TAM|554099|\n",
      "|      AVIANCA BRASIL|183913|\n",
      "|           PASSAREDO| 70436|\n",
      "|AMERICAN AIRLINES...| 22975|\n",
      "|COPA -COMPANIA PA...| 21034|\n",
      "|    TAP AIR PORTUGAL| 18878|\n",
      "|AEROLINEAS ARGENT...| 16522|\n",
      "|   MAP LINHAS AEREAS| 15675|\n",
      "|     UNITED AIRLINES|  9269|\n",
      "|           LAN CHILE|  9141|\n",
      "|      DELTA AIRLINES|  9054|\n",
      "|AUSTRAL LINEAS A�...|  8941|\n",
      "|                SETE|  7720|\n",
      "|          AIR FRANCE|  6819|\n",
      "|TRASAMERICA  AIRL...|  5660|\n",
      "|            EMIRATES|  5646|\n",
      "|             AVIANCA|  5553|\n",
      "|           LUFTHANSA|  4974|\n",
      "+--------------------+------+\n",
      "only showing top 20 rows\n",
      "\n"
     ]
    }
   ],
   "source": [
    "conteo_Companhia_Aerea = data.groupBy(\"Companhia_Aerea\").count()\n",
    "conteo_Companhia_Aerea.orderBy(F.desc(\"count\")).show()"
   ]
  },
  {
   "cell_type": "code",
   "execution_count": 58,
   "id": "37f0c571-d6fd-4f1a-b734-669a3c5e20fa",
   "metadata": {},
   "outputs": [
    {
     "name": "stdout",
     "output_type": "stream",
     "text": [
      "+--------------------+-------+\n",
      "|         Pais_Origem|  count|\n",
      "+--------------------+-------+\n",
      "|              Brasil|2382839|\n",
      "|           Argentina|  35864|\n",
      "|      Estados Unidos|  31700|\n",
      "|               Chile|  11943|\n",
      "|              Panama|  10516|\n",
      "|            Portugal|   9643|\n",
      "|             Uruguai|   6514|\n",
      "|                Peru|   6342|\n",
      "|             Espanha|   5405|\n",
      "|              Franca|   4350|\n",
      "|            Colombia|   4121|\n",
      "|            Alemanha|   3919|\n",
      "|            Paraguai|   3231|\n",
      "|              Italia|   2972|\n",
      "|         Reino Unido|   2885|\n",
      "|Emirados Arabes U...|   2715|\n",
      "|              Mexico|   2172|\n",
      "|             Bolivia|   2037|\n",
      "|Republica Dominicana|   1893|\n",
      "|             Holanda|   1725|\n",
      "+--------------------+-------+\n",
      "only showing top 20 rows\n",
      "\n"
     ]
    }
   ],
   "source": [
    "conteo_Pais_Origem = data.groupBy(\"Pais_Origem\").count()\n",
    "conteo_Pais_Origem.orderBy(F.desc(\"count\")).show()"
   ]
  },
  {
   "cell_type": "code",
   "execution_count": 59,
   "id": "e9a0c72b-555d-4b5d-8f74-f47bfe817cac",
   "metadata": {},
   "outputs": [
    {
     "name": "stdout",
     "output_type": "stream",
     "text": [
      "+--------------------+-------+\n",
      "|        Pais_Destino|  count|\n",
      "+--------------------+-------+\n",
      "|              Brasil|2382826|\n",
      "|           Argentina|  35893|\n",
      "|      Estados Unidos|  31482|\n",
      "|               Chile|  12069|\n",
      "|              Panama|  10518|\n",
      "|            Portugal|   9655|\n",
      "|             Uruguai|   6530|\n",
      "|                Peru|   6390|\n",
      "|             Espanha|   5402|\n",
      "|              Franca|   4353|\n",
      "|            Colombia|   4139|\n",
      "|            Alemanha|   3916|\n",
      "|            Paraguai|   3228|\n",
      "|              Italia|   2970|\n",
      "|         Reino Unido|   2890|\n",
      "|Emirados Arabes U...|   2715|\n",
      "|              Mexico|   2199|\n",
      "|             Bolivia|   2039|\n",
      "|Republica Dominicana|   1891|\n",
      "|             Holanda|   1726|\n",
      "+--------------------+-------+\n",
      "only showing top 20 rows\n",
      "\n"
     ]
    }
   ],
   "source": [
    "conteo_Pais_Destino = data.groupBy(\"Pais_Destino\").count()\n",
    "conteo_Pais_Destino.orderBy(F.desc(\"count\")).show()"
   ]
  },
  {
   "cell_type": "markdown",
   "id": "68993350-ead7-4f35-85f7-69fc8ac99c1e",
   "metadata": {},
   "source": [
    "## Implemento la clase"
   ]
  },
  {
   "cell_type": "code",
   "execution_count": 110,
   "id": "8df5e2a0-0f0f-4da2-b2cd-47c61b7e429e",
   "metadata": {},
   "outputs": [],
   "source": [
    "year_value = 2015\n",
    "date_column = \"Partida_Prevista\"\n",
    "start_column = \"Partida_Real\"\n",
    "end_column = \"Chegada_Real\""
   ]
  },
  {
   "cell_type": "code",
   "execution_count": 111,
   "id": "cf1dda2a-56d9-4ec2-8d51-470f70f3b765",
   "metadata": {},
   "outputs": [],
   "source": [
    "data_year = detector.filter_data_by_year(data, date_column, year_value)"
   ]
  },
  {
   "cell_type": "code",
   "execution_count": 112,
   "id": "07fda2f3-40c8-4fd4-9fba-f30cfc587388",
   "metadata": {},
   "outputs": [],
   "source": [
    "sample = data_year.select(\"Voos\", date_column, start_column, end_column, \"Situacao_Voo\")"
   ]
  },
  {
   "cell_type": "code",
   "execution_count": 114,
   "id": "83a8fd56-62be-4ec1-a61f-0cc0c2e1a6a8",
   "metadata": {},
   "outputs": [],
   "source": [
    "overlaps = detector.detect_overlap(sample, start_column, end_column)"
   ]
  },
  {
   "cell_type": "code",
   "execution_count": 115,
   "id": "a6d98936-d347-40d6-8882-5dcb91edf21b",
   "metadata": {},
   "outputs": [
    {
     "name": "stdout",
     "output_type": "stream",
     "text": [
      "+----------+-------------------+--------------------+--------------------+------------+--------------------+--------------------+\n",
      "|      Voos|   Partida_Prevista|        Partida_Real|        Chegada_Real|Situacao_Voo|          prev_start|            prev_end|\n",
      "+----------+-------------------+--------------------+--------------------+------------+--------------------+--------------------+\n",
      "|AZU - 4100|2015-01-01 02:27:00|2014-12-31T02:15:00Z|2014-12-31T03:00:00Z|   Realizado|2014-12-31T01:03:00Z|2014-12-31T07:17:00Z|\n",
      "|GLO - 1844|2015-01-01 00:00:00|2015-01-01T00:00:00Z|2015-01-01T02:50:00Z|   Realizado|2014-12-31T23:59:00Z|2015-01-01T00:48:00Z|\n",
      "| AAL - 214|2015-01-01 00:01:00|2015-01-01T00:01:00Z|2015-01-01T07:45:00Z|   Realizado|2015-01-01T00:00:00Z|2015-01-01T02:50:00Z|\n",
      "|TAM - 8053|2015-01-01 00:05:00|2015-01-01T00:05:00Z|2015-01-01T08:22:00Z|   Realizado|2015-01-01T00:01:00Z|2015-01-01T07:45:00Z|\n",
      "|TAM - 3557|2015-01-01 00:05:00|2015-01-01T00:05:00Z|2015-01-01T01:45:00Z|   Realizado|2015-01-01T00:05:00Z|2015-01-01T08:22:00Z|\n",
      "| TAP - 102|2015-01-01 00:05:00|2015-01-01T00:05:00Z|2015-01-01T09:00:00Z|   Realizado|2015-01-01T00:05:00Z|2015-01-01T01:45:00Z|\n",
      "| UAL - 860|2015-01-01 00:05:00|2015-01-01T00:05:00Z|2015-01-01T09:45:00Z|   Realizado|2015-01-01T00:05:00Z|2015-01-01T09:00:00Z|\n",
      "| CMP - 216|2015-01-01 00:09:00|2015-01-01T00:09:00Z|2015-01-01T07:24:00Z|   Realizado|2015-01-01T00:05:00Z|2015-01-01T09:45:00Z|\n",
      "|  DAL - 59|2015-01-01 00:11:00|2015-01-01T00:11:00Z|2015-01-01T09:50:00Z|   Realizado|2015-01-01T00:09:00Z|2015-01-01T07:24:00Z|\n",
      "|GLO - 7731|2015-01-01 00:15:00|2015-01-01T00:15:00Z|2015-01-01T07:15:00Z|   Realizado|2015-01-01T00:11:00Z|2015-01-01T09:50:00Z|\n",
      "|TAM - 3322|2015-01-01 00:15:00|2015-01-01T00:15:00Z|2015-01-01T03:35:00Z|   Realizado|2015-01-01T00:15:00Z|2015-01-01T07:15:00Z|\n",
      "| QTR - 772|2015-01-01 00:20:00|2015-01-01T00:20:00Z|2015-01-01T03:00:00Z|   Realizado|2015-01-01T00:15:00Z|2015-01-01T03:35:00Z|\n",
      "| AAL - 963|2015-01-01 00:20:00|2015-01-01T00:20:00Z|2015-01-01T10:25:00Z|   Realizado|2015-01-01T00:20:00Z|2015-01-01T03:00:00Z|\n",
      "| CMP - 759|2015-01-01 00:22:00|2015-01-01T00:22:00Z|2015-01-01T07:20:00Z|   Realizado|2015-01-01T00:20:00Z|2015-01-01T10:25:00Z|\n",
      "|  TAP - 16|2015-01-01 00:25:00|2015-01-01T00:25:00Z|2015-01-01T08:00:00Z|   Realizado|2015-01-01T00:22:00Z|2015-01-01T07:20:00Z|\n",
      "|GLO - 2078|2015-01-01 00:30:00|2015-01-01T00:30:00Z|2015-01-01T03:20:00Z|   Realizado|2015-01-01T00:25:00Z|2015-01-01T08:00:00Z|\n",
      "| AAL - 973|2015-01-01 00:30:00|2015-01-01T00:30:00Z|2015-01-01T10:46:00Z|   Realizado|2015-01-01T00:30:00Z|2015-01-01T03:20:00Z|\n",
      "|TAM - 3350|2015-01-01 00:05:00|2015-01-01T00:35:00Z|2015-01-01T03:55:00Z|   Realizado|2015-01-01T00:30:00Z|2015-01-01T10:46:00Z|\n",
      "|TAM - 8035|2015-01-01 00:35:00|2015-01-01T00:35:00Z|2015-01-01T08:50:00Z|   Realizado|2015-01-01T00:35:00Z|2015-01-01T03:55:00Z|\n",
      "|  THY - 16|2015-01-01 00:55:00|2015-01-01T00:36:00Z|2015-01-01T02:05:00Z|   Realizado|2015-01-01T00:35:00Z|2015-01-01T08:50:00Z|\n",
      "+----------+-------------------+--------------------+--------------------+------------+--------------------+--------------------+\n",
      "only showing top 20 rows\n",
      "\n"
     ]
    }
   ],
   "source": [
    "overlaps.show()"
   ]
  },
  {
   "cell_type": "code",
   "execution_count": 117,
   "id": "4a22bb1e-29a6-4119-a405-5b4a3713cade",
   "metadata": {},
   "outputs": [
    {
     "name": "stdout",
     "output_type": "stream",
     "text": [
      "Total number of overlaps: 941593\n"
     ]
    }
   ],
   "source": [
    "overlap_count = overlaps.count()\n",
    "\n",
    "print(f\"Total number of overlaps: {overlap_count}\")"
   ]
  }
 ],
 "metadata": {
  "kernelspec": {
   "display_name": "Python 3 (ipykernel)",
   "language": "python",
   "name": "python3"
  },
  "language_info": {
   "codemirror_mode": {
    "name": "ipython",
    "version": 3
   },
   "file_extension": ".py",
   "mimetype": "text/x-python",
   "name": "python",
   "nbconvert_exporter": "python",
   "pygments_lexer": "ipython3",
   "version": "3.11.6"
  }
 },
 "nbformat": 4,
 "nbformat_minor": 5
}
